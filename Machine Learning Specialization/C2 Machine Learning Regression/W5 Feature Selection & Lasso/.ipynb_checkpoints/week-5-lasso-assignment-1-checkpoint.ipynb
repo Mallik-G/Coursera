{
 "cells": [
  {
   "cell_type": "markdown",
   "metadata": {},
   "source": [
    "# Regression Week 5: Feature Selection and LASSO (Interpretation)"
   ]
  },
  {
   "cell_type": "markdown",
   "metadata": {},
   "source": [
    "In this notebook, you will use LASSO to select features, building on a pre-implemented solver for LASSO (using GraphLab Create, though you can use other solvers). You will:\n",
    "* Run LASSO with different L1 penalties.\n",
    "* Choose best L1 penalty using a validation set.\n",
    "* Choose best L1 penalty using a validation set, with additional constraint on the size of subset.\n",
    "\n",
    "In the second notebook, you will implement your own LASSO solver, using coordinate descent. "
   ]
  },
  {
   "cell_type": "markdown",
   "metadata": {},
   "source": [
    "# Fire up graphlab create"
   ]
  },
  {
   "cell_type": "code",
   "execution_count": 1,
   "metadata": {
    "collapsed": true
   },
   "outputs": [],
   "source": [
    "#https://dato.com/download/\n",
    "#!conda update pip\n",
    "#!pip install --upgrade --no-cache-dir https://get.dato.com/GraphLab-Create/1.7.1/darrylbuswell@gmail.com/xxx/GraphLab-Create-License.tar.gz\n",
    "\n",
    "import graphlab"
   ]
  },
  {
   "cell_type": "markdown",
   "metadata": {},
   "source": [
    "# Load in house sales data\n",
    "\n",
    "Dataset is from house sales in King County, the region where the city of Seattle, WA is located."
   ]
  },
  {
   "cell_type": "code",
   "execution_count": 2,
   "metadata": {
    "collapsed": false,
    "scrolled": true
   },
   "outputs": [
    {
     "name": "stderr",
     "output_type": "stream",
     "text": [
      "[INFO] \u001b[1;32m1449668138 : INFO:     (initialize_globals_from_environment:282): Setting configuration variable GRAPHLAB_FILEIO_ALTERNATIVE_SSL_CERT_FILE to C:\\Anaconda3\\envs\\Python 2.7\\lib\\site-packages\\certifi\\cacert.pem\n",
      "\u001b[0m\u001b[1;32m1449668138 : INFO:     (initialize_globals_from_environment:282): Setting configuration variable GRAPHLAB_FILEIO_ALTERNATIVE_SSL_CERT_DIR to \n",
      "\u001b[0mThis non-commercial license of GraphLab Create is assigned to darrylbuswell@gmail.com and will expire on December 04, 2016. For commercial licensing options, visit https://dato.com/buy/.\n",
      "\n",
      "[INFO] Start server at: ipc:///tmp/graphlab_server-24832 - Server binary: C:\\Anaconda3\\envs\\Python 2.7\\lib\\site-packages\\graphlab\\unity_server.exe - Server log: C:\\Users\\darry\\AppData\\Local\\Temp\\graphlab_server_1449668138.log.0\n",
      "[INFO] GraphLab Server Version: 1.7.1\n"
     ]
    }
   ],
   "source": [
    "sales = graphlab.SFrame('data/kc_house_data.gl/')"
   ]
  },
  {
   "cell_type": "markdown",
   "metadata": {},
   "source": [
    "# Create new features"
   ]
  },
  {
   "cell_type": "markdown",
   "metadata": {},
   "source": [
    "As in Week 2, we consider features that are some transformations of inputs."
   ]
  },
  {
   "cell_type": "code",
   "execution_count": 3,
   "metadata": {
    "collapsed": true
   },
   "outputs": [],
   "source": [
    "from math import log, sqrt\n",
    "\n",
    "sales['sqft_living_sqrt'] = sales['sqft_living'].apply(sqrt)\n",
    "sales['sqft_lot_sqrt'] = sales['sqft_lot'].apply(sqrt)\n",
    "sales['bedrooms_square'] = sales['bedrooms']*sales['bedrooms']\n",
    "\n",
    "# In the dataset, 'floors' was defined with type string, \n",
    "# so we'll convert them to int, before creating a new feature.\n",
    "sales['floors'] = sales['floors'].astype(int) \n",
    "sales['floors_square'] = sales['floors']*sales['floors']"
   ]
  },
  {
   "cell_type": "markdown",
   "metadata": {},
   "source": [
    "* Squaring bedrooms will increase the separation between not many bedrooms (e.g. 1) and lots of bedrooms (e.g. 4) since 1^2 = 1 but 4^2 = 16. Consequently this variable will mostly affect houses with many bedrooms.\n",
    "* On the other hand, taking square root of sqft_living will decrease the separation between big house and small house. The owner may not be exactly twice as happy for getting a house that is twice as big."
   ]
  },
  {
   "cell_type": "markdown",
   "metadata": {},
   "source": [
    "# Learn regression weights with L1 penalty"
   ]
  },
  {
   "cell_type": "markdown",
   "metadata": {},
   "source": [
    "Let us fit a model with all the features available, plus the features we just created above."
   ]
  },
  {
   "cell_type": "code",
   "execution_count": 4,
   "metadata": {
    "collapsed": false
   },
   "outputs": [],
   "source": [
    "all_features = ['bedrooms', \n",
    "                'bedrooms_square',\n",
    "                'bathrooms',\n",
    "                'sqft_living', \n",
    "                'sqft_living_sqrt',\n",
    "                'sqft_lot', \n",
    "                'sqft_lot_sqrt',\n",
    "                'floors', \n",
    "                'floors_square',\n",
    "                'waterfront', \n",
    "                'view', \n",
    "                'condition', \n",
    "                'grade',\n",
    "                'sqft_above',\n",
    "                'sqft_basement',\n",
    "                'yr_built', \n",
    "                'yr_renovated']"
   ]
  },
  {
   "cell_type": "markdown",
   "metadata": {},
   "source": [
    "Applying L1 penalty requires adding an extra parameter (`l1_penalty`) to the linear regression call in GraphLab Create. (Other tools may have separate implementations of LASSO.)  Note that it's important to set `l2_penalty=0` to ensure we don't introduce an additional L2 penalty."
   ]
  },
  {
   "cell_type": "code",
   "execution_count": 5,
   "metadata": {
    "collapsed": false
   },
   "outputs": [
    {
     "name": "stdout",
     "output_type": "stream",
     "text": [
      "PROGRESS: Linear regression:\n",
      "PROGRESS: --------------------------------------------------------\n",
      "PROGRESS: Number of examples          : 21613\n",
      "PROGRESS: Number of features          : 17\n",
      "PROGRESS: Number of unpacked features : 17\n",
      "PROGRESS: Number of coefficients    : 18\n",
      "PROGRESS: Starting Accelerated Gradient (FISTA)\n",
      "PROGRESS: --------------------------------------------------------\n",
      "PROGRESS: +-----------+----------+-----------+--------------+--------------------+---------------+\n",
      "PROGRESS: | Iteration | Passes   | Step size | Elapsed Time | Training-max_error | Training-rmse |\n",
      "PROGRESS: +-----------+----------+-----------+--------------+--------------------+---------------+\n",
      "PROGRESS: Tuning step size. First iteration could take longer than subsequent iterations.\n",
      "PROGRESS: | 1         | 2        | 0.000002  | 1.177493     | 6981926.539042     | 427729.501760 |\n",
      "PROGRESS: | 2         | 3        | 0.000002  | 1.193007     | 6861970.573528     | 393259.158552 |\n",
      "PROGRESS: | 3         | 4        | 0.000002  | 1.209523     | 6847846.504650     | 385921.135875 |\n",
      "PROGRESS: | 4         | 5        | 0.000002  | 1.227040     | 6859080.563467     | 385317.129588 |\n",
      "PROGRESS: | 5         | 6        | 0.000002  | 1.242555     | 6877408.472440     | 386444.117469 |\n",
      "PROGRESS: | 6         | 7        | 0.000002  | 1.257070     | 6848120.275355     | 380577.022481 |\n",
      "PROGRESS: +-----------+----------+-----------+--------------+--------------------+---------------+\n",
      "PROGRESS: TERMINATED: Iteration limit reached.\n",
      "PROGRESS: This model may not be optimal. To improve it, consider increasing `max_iterations`.\n"
     ]
    }
   ],
   "source": [
    "model_all = graphlab.linear_regression.create(sales, \n",
    "                                              target='price', \n",
    "                                              features=all_features,\n",
    "                                              validation_set=None, \n",
    "                                              l2_penalty=0., \n",
    "                                              l1_penalty=1e10)"
   ]
  },
  {
   "cell_type": "markdown",
   "metadata": {},
   "source": [
    "Find what features had non-zero weight."
   ]
  },
  {
   "cell_type": "code",
   "execution_count": 6,
   "metadata": {
    "collapsed": false
   },
   "outputs": [
    {
     "name": "stdout",
     "output_type": "stream",
     "text": [
      "+------------------+-------+---------------+\n",
      "|       name       | index |     value     |\n",
      "+------------------+-------+---------------+\n",
      "|   (intercept)    |  None |  274952.62044 |\n",
      "|     bedrooms     |  None |      0.0      |\n",
      "| bedrooms_square  |  None |      0.0      |\n",
      "|    bathrooms     |  None | 8483.95148798 |\n",
      "|   sqft_living    |  None | 24.4238022551 |\n",
      "| sqft_living_sqrt |  None | 351.097833343 |\n",
      "|     sqft_lot     |  None |      0.0      |\n",
      "|  sqft_lot_sqrt   |  None |      0.0      |\n",
      "|      floors      |  None |      0.0      |\n",
      "|  floors_square   |  None |      0.0      |\n",
      "|    waterfront    |  None |      0.0      |\n",
      "|       view       |  None |      0.0      |\n",
      "|    condition     |  None |      0.0      |\n",
      "|      grade       |  None | 850.427363977 |\n",
      "|    sqft_above    |  None | 20.0777654516 |\n",
      "|  sqft_basement   |  None |      0.0      |\n",
      "|     yr_built     |  None |      0.0      |\n",
      "|   yr_renovated   |  None |      0.0      |\n",
      "+------------------+-------+---------------+\n",
      "[18 rows x 3 columns]\n",
      "\n"
     ]
    }
   ],
   "source": [
    "model_all.get('coefficients').print_rows(num_rows=len(all_features) + 1)"
   ]
  },
  {
   "cell_type": "markdown",
   "metadata": {},
   "source": [
    "Note that a majority of the weights have been set to zero. So by setting an L1 penalty that's large enough, we are performing a subset selection. \n",
    "\n",
    "***QUIZ QUESTION***:\n",
    "According to this list of weights, which of the features have been chosen? "
   ]
  },
  {
   "cell_type": "markdown",
   "metadata": {},
   "source": [
    "# Selecting an L1 penalty"
   ]
  },
  {
   "cell_type": "markdown",
   "metadata": {},
   "source": [
    "To find a good L1 penalty, we will explore multiple values using a validation set. Let us do three way split into train, validation, and test sets:\n",
    "* Split our sales data into 2 sets: training and test\n",
    "* Further split our training data into two sets: train, validation\n",
    "\n",
    "Be *very* careful that you use seed = 1 to ensure you get the same answer!"
   ]
  },
  {
   "cell_type": "code",
   "execution_count": 7,
   "metadata": {
    "collapsed": true
   },
   "outputs": [],
   "source": [
    "(training_and_validation, testing) = sales.random_split(.9,seed=1) # initial train/test split\n",
    "(training, validation) = training_and_validation.random_split(0.5, seed=1) # split training into train and validate"
   ]
  },
  {
   "cell_type": "markdown",
   "metadata": {},
   "source": [
    "Next, we write a loop that does the following:\n",
    "* For `l1_penalty` in [10^1, 10^1.5, 10^2, 10^2.5, ..., 10^7] (to get this in Python, type `np.logspace(1, 7, num=13)`.)\n",
    "    * Fit a regression model with a given `l1_penalty` on TRAIN data. Specify `l1_penalty=l1_penalty` and `l2_penalty=0.` in the parameter list.\n",
    "    * Compute the RSS on VALIDATION data (here you will want to use `.predict()`) for that `l1_penalty`\n",
    "* Report which `l1_penalty` produced the lowest RSS on validation data.\n",
    "\n",
    "When you call `linear_regression.create()` make sure you set `validation_set = None`.\n",
    "\n",
    "Note: you can turn off the print out of `linear_regression.create()` with `verbose = False`"
   ]
  },
  {
   "cell_type": "code",
   "execution_count": 8,
   "metadata": {
    "collapsed": true
   },
   "outputs": [],
   "source": [
    "import numpy as np # note this allows us to refer to numpy as np instead"
   ]
  },
  {
   "cell_type": "code",
   "execution_count": 9,
   "metadata": {
    "collapsed": false
   },
   "outputs": [
    {
     "name": "stdout",
     "output_type": "stream",
     "text": [
      "('RSS:', 628412158085185.1, 'penalty:', 10.0)\n",
      "('RSS:', 628412158282692.0, 'penalty:', 31.622776601683793)\n",
      "('RSS:', 628412158907274.2, 'penalty:', 100.0)\n",
      "('RSS:', 628412160882372.5, 'penalty:', 316.2277660168379)\n",
      "('RSS:', 628412167128220.5, 'penalty:', 1000.0)\n",
      "('RSS:', 628412186879698.1, 'penalty:', 3162.2776601683795)\n",
      "('RSS:', 628412249343144.9, 'penalty:', 10000.0)\n",
      "('RSS:', 628412446907721.2, 'penalty:', 31622.776601683792)\n",
      "('RSS:', 628413072039906.6, 'penalty:', 100000.0)\n",
      "('RSS:', 628415052663292.8, 'penalty:', 316227.76601683791)\n",
      "('RSS:', 628421353760491.5, 'penalty:', 1000000.0)\n",
      "('RSS:', 628441657747717.1, 'penalty:', 3162277.6601683791)\n",
      "('RSS:', 628509646259482.2, 'penalty:', 10000000.0)\n",
      "(628412158282692.0, 31.622776601683793)\n"
     ]
    }
   ],
   "source": [
    "l1_penalty_list = np.logspace(1, 7, num=13)\n",
    "sort_table = []\n",
    "\n",
    "for l1_penalty in l1_penalty_list:\n",
    "    model = graphlab.linear_regression.create(training, \n",
    "                                              target='price', \n",
    "                                              features=all_features,\n",
    "                                              validation_set=None, \n",
    "                                              l2_penalty=0, \n",
    "                                              l1_penalty=l1_penalty, \n",
    "                                              verbose=False)\n",
    "    predictions = model.predict(validation)\n",
    "    RSS = sum([(predictions[i] - validation[i]['price']) ** 2 for i in range(len(predictions))])\n",
    "    print('RSS:', RSS, 'penalty:', l1_penalty)\n",
    "    sort_table.append((RSS, l1_penalty))\n",
    "    \n",
    "print(sorted(sort_table)[1])"
   ]
  },
  {
   "cell_type": "code",
   "execution_count": 10,
   "metadata": {
    "collapsed": false
   },
   "outputs": [
    {
     "name": "stdout",
     "output_type": "stream",
     "text": [
      "+------------------+-------+------------------+\n",
      "|       name       | index |      value       |\n",
      "+------------------+-------+------------------+\n",
      "|   (intercept)    |  None |  19772.5826717   |\n",
      "|     bedrooms     |  None |  8163.51995199   |\n",
      "| bedrooms_square  |  None |  963.286207169   |\n",
      "|    bathrooms     |  None |  25578.4297787   |\n",
      "|   sqft_living    |  None |  39.3451522891   |\n",
      "| sqft_living_sqrt |  None |  1139.31384706   |\n",
      "|     sqft_lot     |  None | 0.00596774968784 |\n",
      "|  sqft_lot_sqrt   |  None |  151.205354426   |\n",
      "|      floors      |  None |  20205.4712003   |\n",
      "|  floors_square   |  None |  11652.1081691   |\n",
      "|    waterfront    |  None |  602998.684348   |\n",
      "|       view       |  None |  93445.2338191   |\n",
      "|    condition     |  None |   6883.581066    |\n",
      "|      grade       |  None |  6290.22186917   |\n",
      "|    sqft_above    |  None |  43.6198492433   |\n",
      "|  sqft_basement   |  None |  122.001332807   |\n",
      "|     yr_built     |  None |  9.80274156192   |\n",
      "|   yr_renovated   |  None |  57.3884930807   |\n",
      "+------------------+-------+------------------+\n",
      "[18 rows x 3 columns]\n",
      "\n"
     ]
    }
   ],
   "source": [
    "best_model = graphlab.linear_regression.create(training, \n",
    "                                               target='price', \n",
    "                                               features=all_features,\n",
    "                                               validation_set=None, \n",
    "                                               l2_penalty=0, \n",
    "                                               l1_penalty=10, \n",
    "                                               verbose=False)\n",
    "\n",
    "best_model.get('coefficients').print_rows(num_rows=len(all_features) + 1)"
   ]
  },
  {
   "cell_type": "markdown",
   "metadata": {},
   "source": [
    "*** QUIZ QUESTIONS ***\n",
    "1. What was the best value for the `l1_penalty`?\n",
    "2. What is the RSS on TEST data of the model with the best `l1_penalty`?"
   ]
  },
  {
   "cell_type": "code",
   "execution_count": 11,
   "metadata": {
    "collapsed": false
   },
   "outputs": [
    {
     "name": "stdout",
     "output_type": "stream",
     "text": [
      "1.57678098725e+14\n"
     ]
    }
   ],
   "source": [
    "predictions = best_model.predict(testing)\n",
    "RSS = sum([(predictions[i] - testing[i]['price']) ** 2 for i in range(len(predictions))])\n",
    "print(RSS)"
   ]
  },
  {
   "cell_type": "markdown",
   "metadata": {},
   "source": [
    "***QUIZ QUESTION***\n",
    "Also, using this value of L1 penalty, how many nonzero weights do you have?"
   ]
  },
  {
   "cell_type": "code",
   "execution_count": 12,
   "metadata": {
    "collapsed": false
   },
   "outputs": [
    {
     "data": {
      "text/plain": [
       "18"
      ]
     },
     "execution_count": 12,
     "metadata": {},
     "output_type": "execute_result"
    }
   ],
   "source": [
    "best_model['coefficients']['value'].nnz()"
   ]
  },
  {
   "cell_type": "markdown",
   "metadata": {},
   "source": [
    "# Limit the number of nonzero weights\n",
    "\n",
    "What if we absolutely wanted to limit ourselves to, say, 7 features? This may be important if we want to derive \"a rule of thumb\" --- an interpretable model that has only a few features in them."
   ]
  },
  {
   "cell_type": "markdown",
   "metadata": {},
   "source": [
    "In this section, you are going to implement a simple, two phase procedure to achive this goal:\n",
    "1. Explore a large range of `l1_penalty` values to find a narrow region of `l1_penalty` values where models are likely to have the desired number of non-zero weights.\n",
    "2. Further explore the narrow region you found to find a good value for `l1_penalty` that achieves the desired sparsity.  Here, we will again use a validation set to choose the best value for `l1_penalty`."
   ]
  },
  {
   "cell_type": "code",
   "execution_count": 13,
   "metadata": {
    "collapsed": true
   },
   "outputs": [],
   "source": [
    "max_nonzeros = 7"
   ]
  },
  {
   "cell_type": "markdown",
   "metadata": {},
   "source": [
    "## Exploring the larger range of values to find a narrow range with the desired sparsity\n",
    "\n",
    "Let's define a wide range of possible `l1_penalty_values`:"
   ]
  },
  {
   "cell_type": "code",
   "execution_count": 14,
   "metadata": {
    "collapsed": false
   },
   "outputs": [],
   "source": [
    "l1_penalty_values = np.logspace(8, 10, num=20)"
   ]
  },
  {
   "cell_type": "markdown",
   "metadata": {},
   "source": [
    "Now, implement a loop that search through this space of possible `l1_penalty` values:\n",
    "\n",
    "* For `l1_penalty` in `np.logspace(8, 10, num=20)`:\n",
    "    * Fit a regression model with a given `l1_penalty` on TRAIN data. Specify `l1_penalty=l1_penalty` and `l2_penalty=0.` in the parameter list. When you call `linear_regression.create()` make sure you set `validation_set = None`\n",
    "    * Extract the weights of the model and count the number of nonzeros. Save the number of nonzeros to a list.\n",
    "        * *Hint: `model['coefficients']['value']` gives you an SArray with the parameters you learned.  If you call the method `.nnz()` on it, you will find the number of non-zero parameters!* "
   ]
  },
  {
   "cell_type": "code",
   "execution_count": 15,
   "metadata": {
    "collapsed": false
   },
   "outputs": [
    {
     "name": "stdout",
     "output_type": "stream",
     "text": [
      "('NZZ:', 18, 'penalty:', 100000000.0)\n",
      "('NZZ:', 18, 'penalty:', 127427498.57031322)\n",
      "('NZZ:', 18, 'penalty:', 162377673.91887242)\n",
      "('NZZ:', 18, 'penalty:', 206913808.11147901)\n",
      "('NZZ:', 17, 'penalty:', 263665089.87303555)\n",
      "('NZZ:', 17, 'penalty:', 335981828.62837881)\n",
      "('NZZ:', 17, 'penalty:', 428133239.8719396)\n",
      "('NZZ:', 17, 'penalty:', 545559478.11685145)\n",
      "('NZZ:', 17, 'penalty:', 695192796.17755914)\n",
      "('NZZ:', 16, 'penalty:', 885866790.41008317)\n",
      "('NZZ:', 15, 'penalty:', 1128837891.6846883)\n",
      "('NZZ:', 15, 'penalty:', 1438449888.2876658)\n",
      "('NZZ:', 13, 'penalty:', 1832980710.8324375)\n",
      "('NZZ:', 11, 'penalty:', 2335721469.0901213)\n",
      "('NZZ:', 10, 'penalty:', 2976351441.6313128)\n",
      "('NZZ:', 6, 'penalty:', 3792690190.7322536)\n",
      "('NZZ:', 5, 'penalty:', 4832930238.5717525)\n",
      "('NZZ:', 3, 'penalty:', 6158482110.6602545)\n",
      "('NZZ:', 1, 'penalty:', 7847599703.5146227)\n",
      "('NZZ:', 1, 'penalty:', 10000000000.0)\n",
      "(1, 10000000000.0)\n"
     ]
    }
   ],
   "source": [
    "info = []\n",
    "for l1_penalty in l1_penalty_values:\n",
    "    model = graphlab.linear_regression.create(training, \n",
    "                                              target='price', \n",
    "                                              features=all_features,\n",
    "                                              validation_set=None, \n",
    "                                              l2_penalty=0, \n",
    "                                              l1_penalty=l1_penalty, \n",
    "                                              verbose=False)\n",
    "    nnz = model['coefficients']['value'].nnz()\n",
    "    info.append((l1_penalty, nnz))\n",
    "    print('NZZ:', nnz, 'penalty:', l1_penalty)\n",
    "    sort_table.append((nnz, l1_penalty))\n",
    "    \n",
    "print(sorted(sort_table)[1])"
   ]
  },
  {
   "cell_type": "markdown",
   "metadata": {},
   "source": [
    "Out of this large range, we want to find the two ends of our desired narrow range of `l1_penalty`.  At one end, we will have `l1_penalty` values that have too few non-zeros, and at the other end, we will have an `l1_penalty` that has too many non-zeros.  \n",
    "\n",
    "More formally, find:\n",
    "* The largest `l1_penalty` that has more non-zeros than `max_nonzero` (if we pick a penalty smaller than this value, we will definitely have too many non-zero weights)\n",
    "    * Store this value in the variable `l1_penalty_min` (we will use it later)\n",
    "* The smallest `l1_penalty` that has fewer non-zeros than `max_nonzero` (if we pick a penalty larger than this value, we will definitely have too few non-zero weights)\n",
    "    * Store this value in the variable `l1_penalty_max` (we will use it later)\n",
    "\n",
    "\n",
    "*Hint: there are many ways to do this, e.g.:*\n",
    "* Programmatically within the loop above\n",
    "* Creating a list with the number of non-zeros for each value of `l1_penalty` and inspecting it to find the appropriate boundaries."
   ]
  },
  {
   "cell_type": "code",
   "execution_count": 16,
   "metadata": {
    "collapsed": false
   },
   "outputs": [
    {
     "name": "stdout",
     "output_type": "stream",
     "text": [
      "(2976351441.6313128, 3792690190.7322536)\n"
     ]
    }
   ],
   "source": [
    "l1_penalty_min = l1_penalty_values[14]\n",
    "l1_penalty_max = l1_penalty_values[15]\n",
    "print(l1_penalty_min, l1_penalty_max)"
   ]
  },
  {
   "cell_type": "markdown",
   "metadata": {},
   "source": [
    "***QUIZ QUESTIONS***\n",
    "\n",
    "What values did you find for `l1_penalty_min` and`l1_penalty_max`? "
   ]
  },
  {
   "cell_type": "markdown",
   "metadata": {},
   "source": [
    "## Exploring the narrow range of values to find the solution with the right number of non-zeros that has lowest RSS on the validation set \n",
    "\n",
    "We will now explore the narrow region of `l1_penalty` values we found:"
   ]
  },
  {
   "cell_type": "code",
   "execution_count": 17,
   "metadata": {
    "collapsed": false
   },
   "outputs": [
    {
     "name": "stdout",
     "output_type": "stream",
     "text": [
      "[  2.97635144e+09   3.01931664e+09   3.06228184e+09   3.10524703e+09\n",
      "   3.14821223e+09   3.19117743e+09   3.23414263e+09   3.27710782e+09\n",
      "   3.32007302e+09   3.36303822e+09   3.40600341e+09   3.44896861e+09\n",
      "   3.49193381e+09   3.53489901e+09   3.57786420e+09   3.62082940e+09\n",
      "   3.66379460e+09   3.70675980e+09   3.74972499e+09   3.79269019e+09]\n"
     ]
    }
   ],
   "source": [
    "l1_penalty_values = np.linspace(l1_penalty_min,l1_penalty_max,20)\n",
    "print(l1_penalty_values)"
   ]
  },
  {
   "cell_type": "markdown",
   "metadata": {},
   "source": [
    "* For `l1_penalty` in `np.linspace(l1_penalty_min,l1_penalty_max,20)`:\n",
    "    * Fit a regression model with a given `l1_penalty` on TRAIN data. Specify `l1_penalty=l1_penalty` and `l2_penalty=0.` in the parameter list. When you call `linear_regression.create()` make sure you set `validation_set = None`\n",
    "    * Measure the RSS of the learned model on the VALIDATION set\n",
    "\n",
    "Find the model that the lowest RSS on the VALIDATION set and has sparsity *equal* to `max_nonzero`."
   ]
  },
  {
   "cell_type": "code",
   "execution_count": 18,
   "metadata": {
    "collapsed": false
   },
   "outputs": [
    {
     "name": "stdout",
     "output_type": "stream",
     "text": [
      "('RSS:', 1029979472296640.8, 'penalty:', 3320073020.20013)\n",
      "('RSS:', 1032939019370513.6, 'penalty:', 3363038217.5212321)\n",
      "('RSS:', 1036462853256876.0, 'penalty:', 3406003414.8423343)\n",
      "('RSS:', 1040199358404093.5, 'penalty:', 3448968612.1634364)\n",
      "('RSS:', 1045119929512428.0, 'penalty:', 3491933809.4845386)\n",
      "('RSS:', 1050271584116935.1, 'penalty:', 3534899006.8056407)\n",
      "('RSS:', 1055416895029827.8, 'penalty:', 3577864204.1267428)\n",
      "('RSS:', 1060586344574354.9, 'penalty:', 3620829401.447845)\n",
      "(1032939019370513.6, 3363038217.5212321)\n"
     ]
    }
   ],
   "source": [
    "sort_table = []\n",
    "\n",
    "for l1_penalty in l1_penalty_values:\n",
    "    model = graphlab.linear_regression.create(training, \n",
    "                                              target='price', \n",
    "                                              features=all_features,\n",
    "                                              validation_set=None, \n",
    "                                              l2_penalty=0, \n",
    "                                              l1_penalty=l1_penalty, \n",
    "                                              verbose=False)\n",
    "    nnz = model['coefficients']['value'].nnz()\n",
    "    if not nnz == max_nonzeros:\n",
    "        continue\n",
    "    predictions = model.predict(validation)\n",
    "    RSS = sum([(predictions[i] - validation[i]['price']) ** 2 for i in range(len(predictions))])\n",
    "    print('RSS:', RSS, 'penalty:', l1_penalty)\n",
    "    sort_table.append((RSS, l1_penalty))\n",
    "    \n",
    "print(sorted(sort_table)[1])\n",
    "minrss_penalty = sorted(sort_table)[1][1]"
   ]
  },
  {
   "cell_type": "markdown",
   "metadata": {},
   "source": [
    "***QUIZ QUESTIONS***\n",
    "1. What value of `l1_penalty` in our narrow range has the lowest RSS on the VALIDATION set and has sparsity *equal* to `max_nonzeros`?\n",
    "2. What features in this model have non-zero coefficients?"
   ]
  },
  {
   "cell_type": "code",
   "execution_count": 19,
   "metadata": {
    "collapsed": false
   },
   "outputs": [
    {
     "name": "stdout",
     "output_type": "stream",
     "text": [
      "+------------------+-------+---------------+\n",
      "|       name       | index |     value     |\n",
      "+------------------+-------+---------------+\n",
      "|   (intercept)    |  None | 218017.932705 |\n",
      "|     bedrooms     |  None | 1080.54982628 |\n",
      "| bedrooms_square  |  None |      0.0      |\n",
      "|    bathrooms     |  None |  16464.698411 |\n",
      "|   sqft_living    |  None | 32.9179739769 |\n",
      "| sqft_living_sqrt |  None | 718.977806756 |\n",
      "|     sqft_lot     |  None |      0.0      |\n",
      "|  sqft_lot_sqrt   |  None |      0.0      |\n",
      "|      floors      |  None |      0.0      |\n",
      "|  floors_square   |  None |      0.0      |\n",
      "|    waterfront    |  None |      0.0      |\n",
      "|       view       |  None |      0.0      |\n",
      "|    condition     |  None |      0.0      |\n",
      "|      grade       |  None | 3089.53647721 |\n",
      "|    sqft_above    |  None | 30.8142752399 |\n",
      "|  sqft_basement   |  None |      0.0      |\n",
      "|     yr_built     |  None |      0.0      |\n",
      "|   yr_renovated   |  None |      0.0      |\n",
      "+------------------+-------+---------------+\n",
      "[18 rows x 3 columns]\n",
      "\n"
     ]
    }
   ],
   "source": [
    "best_model = graphlab.linear_regression.create(training, \n",
    "                                               target='price', \n",
    "                                               features=all_features,\n",
    "                                               validation_set=None, \n",
    "                                               l2_penalty=0, \n",
    "                                               l1_penalty=minrss_penalty, \n",
    "                                               verbose=False)\n",
    "best_model.get('coefficients').print_rows(num_rows=len(all_features) + 1)"
   ]
  },
  {
   "cell_type": "code",
   "execution_count": null,
   "metadata": {
    "collapsed": true
   },
   "outputs": [],
   "source": []
  }
 ],
 "metadata": {
  "kernelspec": {
   "display_name": "Python 2",
   "language": "python",
   "name": "python2"
  },
  "language_info": {
   "codemirror_mode": {
    "name": "ipython",
    "version": 2
   },
   "file_extension": ".py",
   "mimetype": "text/x-python",
   "name": "python",
   "nbconvert_exporter": "python",
   "pygments_lexer": "ipython2",
   "version": "2.7.10"
  }
 },
 "nbformat": 4,
 "nbformat_minor": 0
}
